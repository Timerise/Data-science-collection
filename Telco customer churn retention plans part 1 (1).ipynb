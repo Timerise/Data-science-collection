{
 "cells": [
  {
   "cell_type": "markdown",
   "metadata": {},
   "source": [
    "## $\\text{Written by EG Timerise aka Dr.E}$\n",
    "\n",
    "$\\text{ A simple introduction review of some basic R coding.}$\n",
    "\n",
    "$\\text{ Data set pulled from kaggle.com}$\n",
    "\n",
    "$\\text{An IBM sample data set}$\n",
    "\n",
    "$\\text{https://www.kaggle.com/blastchar/telco-customer-churn}$\n",
    "\n",
    "$\\text{Objective : Analyze customer data and develop customer focused retention plans.}$\n",
    "\n",
    "$\\text{First lets load the library 'readr' used to import our csv file.}$\n",
    "\n",
    "\n",
    "$\\text{A special note:}$\n",
    "\n",
    "$\\text{Note we are dealing with an observational data set and not a experimental data set.}$\n",
    "\n",
    "$\\text{We can use 'install.packages(\"tidyverse\") ' to install the following libraries}$\n",
    "\n",
    "$\\text{'ggplot2' , 'tibble' , 'tidyr' , 'readr', 'purr','dplyr' , 'stringr'  , and 'forcats',etc...}$\n",
    "\n",
    "$\\text{We still need to load our desire library if we want to use it!}$\n"
   ]
  },
  {
   "cell_type": "markdown",
   "metadata": {},
   "source": [
    "$\\text{Some background information about the various variables:}$\n",
    "\n",
    "#### customerID - Customer ID\n",
    "\n",
    "#### gender - Customer gender (female, male)\n",
    "\n",
    "#### SeniorCitizen - Whether the customer is a senior citizen or not (1, 0)\n",
    "\n",
    "#### Partner -Whether the customer has a partner or not (Yes, No)\n",
    "\n",
    "#### Dependents - Whether the customer has dependents or not (Yes, No)\n",
    "\n",
    "#### tenure - Number of months the customer has stayed with the company\n",
    "\n",
    "#### PhoneService - Whether the customer has a phone service or not (Yes, No)\n",
    "\n",
    "#### MultipleLines - Whether the customer has multiple lines or not (Yes, No, No phone service)\n",
    "\n",
    "#### InternetService - Customer’s internet service provider (DSL, Fiber optic, No)\n",
    "\n",
    "#### OnlineSecurity - Whether the customer has online security or not (Yes, No, No internet service)\n",
    "\n",
    "#### OnlineBackup - Whether the customer has online backup or not (Yes, No, No internet service)\n",
    "\n",
    "#### DeviceProtection - Whether the customer has device protection or not (Yes, No, No internet service)\n",
    "\n",
    "#### TechSupport - Whether the customer has tech support or not (Yes, No, No internet service)\n",
    "\n",
    "#### StreamingTV - Whether the customer has streaming TV or not (Yes, No, No internet service)\n",
    "\n",
    "#### StreamingMovies -Whether the customer has streaming movies or not (Yes, No, No internet service)\n",
    "\n",
    "#### Contract - The contract term of the customer (Month-to-month, One year, Two year)\n",
    "\n",
    "#### PaperlessBilling - Whether the customer has paperless billing or not (Yes, No)\n",
    "\n",
    "#### PaymentMethod -The customer’s payment method (Electronic check, Mailed check, Bank transfer (automatic), Credit card (automatic))\n",
    "\n",
    "#### MonthlyCharges - The amount charged to the customer monthly\n",
    "\n",
    "#### TotalCharges -The total amount charged to the customer\n",
    "\n",
    "#### Churn - Whether the customer churned or not (Yes or No), stop using service vs. conti. service"
   ]
  },
  {
   "cell_type": "code",
   "execution_count": 11,
   "metadata": {},
   "outputs": [
    {
     "name": "stderr",
     "output_type": "stream",
     "text": [
      "Parsed with column specification:\n",
      "cols(\n",
      "  .default = col_character(),\n",
      "  SeniorCitizen = col_integer(),\n",
      "  tenure = col_integer(),\n",
      "  MonthlyCharges = col_double(),\n",
      "  TotalCharges = col_double()\n",
      ")\n",
      "See spec(...) for full column specifications.\n"
     ]
    }
   ],
   "source": [
    "library(readr) ##loading the readr library \n",
    "#now importing our data set into the system\n",
    "data1<- read_csv(\"C:/Users/dragon/Desktop/WA_Fn-UseC_-Telco-Customer-Churn.csv\")"
   ]
  },
  {
   "cell_type": "code",
   "execution_count": 12,
   "metadata": {},
   "outputs": [
    {
     "data": {
      "text/html": [
       "<ol class=list-inline>\n",
       "\t<li>7043</li>\n",
       "\t<li>21</li>\n",
       "</ol>\n"
      ],
      "text/latex": [
       "\\begin{enumerate*}\n",
       "\\item 7043\n",
       "\\item 21\n",
       "\\end{enumerate*}\n"
      ],
      "text/markdown": [
       "1. 7043\n",
       "2. 21\n",
       "\n",
       "\n"
      ],
      "text/plain": [
       "[1] 7043   21"
      ]
     },
     "metadata": {},
     "output_type": "display_data"
    }
   ],
   "source": [
    "dim(data1) ## lets you view the dimension of our data set\n",
    "## row vs columns, much like pythons 'data1.shape' format"
   ]
  },
  {
   "cell_type": "markdown",
   "metadata": {},
   "source": [
    "$\\text{So it looks like we have 7043 observations and 21 variables.}$\n",
    "\n",
    "$\\text{Lets check out the first few observations.}$"
   ]
  },
  {
   "cell_type": "code",
   "execution_count": 13,
   "metadata": {},
   "outputs": [
    {
     "data": {
      "text/html": [
       "<table>\n",
       "<thead><tr><th scope=col>customerID</th><th scope=col>gender</th><th scope=col>SeniorCitizen</th><th scope=col>Partner</th><th scope=col>Dependents</th><th scope=col>tenure</th><th scope=col>PhoneService</th><th scope=col>MultipleLines</th><th scope=col>InternetService</th><th scope=col>OnlineSecurity</th><th scope=col>...</th><th scope=col>DeviceProtection</th><th scope=col>TechSupport</th><th scope=col>StreamingTV</th><th scope=col>StreamingMovies</th><th scope=col>Contract</th><th scope=col>PaperlessBilling</th><th scope=col>PaymentMethod</th><th scope=col>MonthlyCharges</th><th scope=col>TotalCharges</th><th scope=col>Churn</th></tr></thead>\n",
       "<tbody>\n",
       "\t<tr><td>7590-VHVEG               </td><td>Female                   </td><td>0                        </td><td>Yes                      </td><td>No                       </td><td> 1                       </td><td>No                       </td><td>No phone service         </td><td>DSL                      </td><td>No                       </td><td>...                      </td><td>No                       </td><td>No                       </td><td>No                       </td><td>No                       </td><td>Month-to-month           </td><td>Yes                      </td><td>Electronic check         </td><td> 29.85                   </td><td>  29.85                  </td><td>No                       </td></tr>\n",
       "\t<tr><td>5575-GNVDE               </td><td>Male                     </td><td>0                        </td><td>No                       </td><td>No                       </td><td>34                       </td><td>Yes                      </td><td>No                       </td><td>DSL                      </td><td>Yes                      </td><td>...                      </td><td>Yes                      </td><td>No                       </td><td>No                       </td><td>No                       </td><td>One year                 </td><td>No                       </td><td>Mailed check             </td><td> 56.95                   </td><td>1889.50                  </td><td>No                       </td></tr>\n",
       "\t<tr><td>3668-QPYBK               </td><td>Male                     </td><td>0                        </td><td>No                       </td><td>No                       </td><td> 2                       </td><td>Yes                      </td><td>No                       </td><td>DSL                      </td><td>Yes                      </td><td>...                      </td><td>No                       </td><td>No                       </td><td>No                       </td><td>No                       </td><td>Month-to-month           </td><td>Yes                      </td><td>Mailed check             </td><td> 53.85                   </td><td> 108.15                  </td><td>Yes                      </td></tr>\n",
       "\t<tr><td>7795-CFOCW               </td><td>Male                     </td><td>0                        </td><td>No                       </td><td>No                       </td><td>45                       </td><td>No                       </td><td>No phone service         </td><td>DSL                      </td><td>Yes                      </td><td>...                      </td><td>Yes                      </td><td>Yes                      </td><td>No                       </td><td>No                       </td><td>One year                 </td><td>No                       </td><td>Bank transfer (automatic)</td><td> 42.30                   </td><td>1840.75                  </td><td>No                       </td></tr>\n",
       "\t<tr><td>9237-HQITU               </td><td>Female                   </td><td>0                        </td><td>No                       </td><td>No                       </td><td> 2                       </td><td>Yes                      </td><td>No                       </td><td>Fiber optic              </td><td>No                       </td><td>...                      </td><td>No                       </td><td>No                       </td><td>No                       </td><td>No                       </td><td>Month-to-month           </td><td>Yes                      </td><td>Electronic check         </td><td> 70.70                   </td><td> 151.65                  </td><td>Yes                      </td></tr>\n",
       "\t<tr><td>9305-CDSKC               </td><td>Female                   </td><td>0                        </td><td>No                       </td><td>No                       </td><td> 8                       </td><td>Yes                      </td><td>Yes                      </td><td>Fiber optic              </td><td>No                       </td><td>...                      </td><td>Yes                      </td><td>No                       </td><td>Yes                      </td><td>Yes                      </td><td>Month-to-month           </td><td>Yes                      </td><td>Electronic check         </td><td> 99.65                   </td><td> 820.50                  </td><td>Yes                      </td></tr>\n",
       "\t<tr><td>1452-KIOVK               </td><td>Male                     </td><td>0                        </td><td>No                       </td><td>Yes                      </td><td>22                       </td><td>Yes                      </td><td>Yes                      </td><td>Fiber optic              </td><td>No                       </td><td>...                      </td><td>No                       </td><td>No                       </td><td>Yes                      </td><td>No                       </td><td>Month-to-month           </td><td>Yes                      </td><td>Credit card (automatic)  </td><td> 89.10                   </td><td>1949.40                  </td><td>No                       </td></tr>\n",
       "\t<tr><td>6713-OKOMC               </td><td>Female                   </td><td>0                        </td><td>No                       </td><td>No                       </td><td>10                       </td><td>No                       </td><td>No phone service         </td><td>DSL                      </td><td>Yes                      </td><td>...                      </td><td>No                       </td><td>No                       </td><td>No                       </td><td>No                       </td><td>Month-to-month           </td><td>No                       </td><td>Mailed check             </td><td> 29.75                   </td><td> 301.90                  </td><td>No                       </td></tr>\n",
       "\t<tr><td>7892-POOKP               </td><td>Female                   </td><td>0                        </td><td>Yes                      </td><td>No                       </td><td>28                       </td><td>Yes                      </td><td>Yes                      </td><td>Fiber optic              </td><td>No                       </td><td>...                      </td><td>Yes                      </td><td>Yes                      </td><td>Yes                      </td><td>Yes                      </td><td>Month-to-month           </td><td>Yes                      </td><td>Electronic check         </td><td>104.80                   </td><td>3046.05                  </td><td>Yes                      </td></tr>\n",
       "\t<tr><td>6388-TABGU               </td><td>Male                     </td><td>0                        </td><td>No                       </td><td>Yes                      </td><td>62                       </td><td>Yes                      </td><td>No                       </td><td>DSL                      </td><td>Yes                      </td><td>...                      </td><td>No                       </td><td>No                       </td><td>No                       </td><td>No                       </td><td>One year                 </td><td>No                       </td><td>Bank transfer (automatic)</td><td> 56.15                   </td><td>3487.95                  </td><td>No                       </td></tr>\n",
       "</tbody>\n",
       "</table>\n"
      ],
      "text/latex": [
       "\\begin{tabular}{r|lllllllllllllllllllll}\n",
       " customerID & gender & SeniorCitizen & Partner & Dependents & tenure & PhoneService & MultipleLines & InternetService & OnlineSecurity & ... & DeviceProtection & TechSupport & StreamingTV & StreamingMovies & Contract & PaperlessBilling & PaymentMethod & MonthlyCharges & TotalCharges & Churn\\\\\n",
       "\\hline\n",
       "\t 7590-VHVEG                & Female                    & 0                         & Yes                       & No                        &  1                        & No                        & No phone service          & DSL                       & No                        & ...                       & No                        & No                        & No                        & No                        & Month-to-month            & Yes                       & Electronic check          &  29.85                    &   29.85                   & No                       \\\\\n",
       "\t 5575-GNVDE                & Male                      & 0                         & No                        & No                        & 34                        & Yes                       & No                        & DSL                       & Yes                       & ...                       & Yes                       & No                        & No                        & No                        & One year                  & No                        & Mailed check              &  56.95                    & 1889.50                   & No                       \\\\\n",
       "\t 3668-QPYBK                & Male                      & 0                         & No                        & No                        &  2                        & Yes                       & No                        & DSL                       & Yes                       & ...                       & No                        & No                        & No                        & No                        & Month-to-month            & Yes                       & Mailed check              &  53.85                    &  108.15                   & Yes                      \\\\\n",
       "\t 7795-CFOCW                & Male                      & 0                         & No                        & No                        & 45                        & No                        & No phone service          & DSL                       & Yes                       & ...                       & Yes                       & Yes                       & No                        & No                        & One year                  & No                        & Bank transfer (automatic) &  42.30                    & 1840.75                   & No                       \\\\\n",
       "\t 9237-HQITU                & Female                    & 0                         & No                        & No                        &  2                        & Yes                       & No                        & Fiber optic               & No                        & ...                       & No                        & No                        & No                        & No                        & Month-to-month            & Yes                       & Electronic check          &  70.70                    &  151.65                   & Yes                      \\\\\n",
       "\t 9305-CDSKC                & Female                    & 0                         & No                        & No                        &  8                        & Yes                       & Yes                       & Fiber optic               & No                        & ...                       & Yes                       & No                        & Yes                       & Yes                       & Month-to-month            & Yes                       & Electronic check          &  99.65                    &  820.50                   & Yes                      \\\\\n",
       "\t 1452-KIOVK                & Male                      & 0                         & No                        & Yes                       & 22                        & Yes                       & Yes                       & Fiber optic               & No                        & ...                       & No                        & No                        & Yes                       & No                        & Month-to-month            & Yes                       & Credit card (automatic)   &  89.10                    & 1949.40                   & No                       \\\\\n",
       "\t 6713-OKOMC                & Female                    & 0                         & No                        & No                        & 10                        & No                        & No phone service          & DSL                       & Yes                       & ...                       & No                        & No                        & No                        & No                        & Month-to-month            & No                        & Mailed check              &  29.75                    &  301.90                   & No                       \\\\\n",
       "\t 7892-POOKP                & Female                    & 0                         & Yes                       & No                        & 28                        & Yes                       & Yes                       & Fiber optic               & No                        & ...                       & Yes                       & Yes                       & Yes                       & Yes                       & Month-to-month            & Yes                       & Electronic check          & 104.80                    & 3046.05                   & Yes                      \\\\\n",
       "\t 6388-TABGU                & Male                      & 0                         & No                        & Yes                       & 62                        & Yes                       & No                        & DSL                       & Yes                       & ...                       & No                        & No                        & No                        & No                        & One year                  & No                        & Bank transfer (automatic) &  56.15                    & 3487.95                   & No                       \\\\\n",
       "\\end{tabular}\n"
      ],
      "text/markdown": [
       "\n",
       "customerID | gender | SeniorCitizen | Partner | Dependents | tenure | PhoneService | MultipleLines | InternetService | OnlineSecurity | ... | DeviceProtection | TechSupport | StreamingTV | StreamingMovies | Contract | PaperlessBilling | PaymentMethod | MonthlyCharges | TotalCharges | Churn | \n",
       "|---|---|---|---|---|---|---|---|---|---|\n",
       "| 7590-VHVEG                | Female                    | 0                         | Yes                       | No                        |  1                        | No                        | No phone service          | DSL                       | No                        | ...                       | No                        | No                        | No                        | No                        | Month-to-month            | Yes                       | Electronic check          |  29.85                    |   29.85                   | No                        | \n",
       "| 5575-GNVDE                | Male                      | 0                         | No                        | No                        | 34                        | Yes                       | No                        | DSL                       | Yes                       | ...                       | Yes                       | No                        | No                        | No                        | One year                  | No                        | Mailed check              |  56.95                    | 1889.50                   | No                        | \n",
       "| 3668-QPYBK                | Male                      | 0                         | No                        | No                        |  2                        | Yes                       | No                        | DSL                       | Yes                       | ...                       | No                        | No                        | No                        | No                        | Month-to-month            | Yes                       | Mailed check              |  53.85                    |  108.15                   | Yes                       | \n",
       "| 7795-CFOCW                | Male                      | 0                         | No                        | No                        | 45                        | No                        | No phone service          | DSL                       | Yes                       | ...                       | Yes                       | Yes                       | No                        | No                        | One year                  | No                        | Bank transfer (automatic) |  42.30                    | 1840.75                   | No                        | \n",
       "| 9237-HQITU                | Female                    | 0                         | No                        | No                        |  2                        | Yes                       | No                        | Fiber optic               | No                        | ...                       | No                        | No                        | No                        | No                        | Month-to-month            | Yes                       | Electronic check          |  70.70                    |  151.65                   | Yes                       | \n",
       "| 9305-CDSKC                | Female                    | 0                         | No                        | No                        |  8                        | Yes                       | Yes                       | Fiber optic               | No                        | ...                       | Yes                       | No                        | Yes                       | Yes                       | Month-to-month            | Yes                       | Electronic check          |  99.65                    |  820.50                   | Yes                       | \n",
       "| 1452-KIOVK                | Male                      | 0                         | No                        | Yes                       | 22                        | Yes                       | Yes                       | Fiber optic               | No                        | ...                       | No                        | No                        | Yes                       | No                        | Month-to-month            | Yes                       | Credit card (automatic)   |  89.10                    | 1949.40                   | No                        | \n",
       "| 6713-OKOMC                | Female                    | 0                         | No                        | No                        | 10                        | No                        | No phone service          | DSL                       | Yes                       | ...                       | No                        | No                        | No                        | No                        | Month-to-month            | No                        | Mailed check              |  29.75                    |  301.90                   | No                        | \n",
       "| 7892-POOKP                | Female                    | 0                         | Yes                       | No                        | 28                        | Yes                       | Yes                       | Fiber optic               | No                        | ...                       | Yes                       | Yes                       | Yes                       | Yes                       | Month-to-month            | Yes                       | Electronic check          | 104.80                    | 3046.05                   | Yes                       | \n",
       "| 6388-TABGU                | Male                      | 0                         | No                        | Yes                       | 62                        | Yes                       | No                        | DSL                       | Yes                       | ...                       | No                        | No                        | No                        | No                        | One year                  | No                        | Bank transfer (automatic) |  56.15                    | 3487.95                   | No                        | \n",
       "\n",
       "\n"
      ],
      "text/plain": [
       "   customerID gender SeniorCitizen Partner Dependents tenure PhoneService\n",
       "1  7590-VHVEG Female 0             Yes     No          1     No          \n",
       "2  5575-GNVDE Male   0             No      No         34     Yes         \n",
       "3  3668-QPYBK Male   0             No      No          2     Yes         \n",
       "4  7795-CFOCW Male   0             No      No         45     No          \n",
       "5  9237-HQITU Female 0             No      No          2     Yes         \n",
       "6  9305-CDSKC Female 0             No      No          8     Yes         \n",
       "7  1452-KIOVK Male   0             No      Yes        22     Yes         \n",
       "8  6713-OKOMC Female 0             No      No         10     No          \n",
       "9  7892-POOKP Female 0             Yes     No         28     Yes         \n",
       "10 6388-TABGU Male   0             No      Yes        62     Yes         \n",
       "   MultipleLines    InternetService OnlineSecurity ... DeviceProtection\n",
       "1  No phone service DSL             No             ... No              \n",
       "2  No               DSL             Yes            ... Yes             \n",
       "3  No               DSL             Yes            ... No              \n",
       "4  No phone service DSL             Yes            ... Yes             \n",
       "5  No               Fiber optic     No             ... No              \n",
       "6  Yes              Fiber optic     No             ... Yes             \n",
       "7  Yes              Fiber optic     No             ... No              \n",
       "8  No phone service DSL             Yes            ... No              \n",
       "9  Yes              Fiber optic     No             ... Yes             \n",
       "10 No               DSL             Yes            ... No              \n",
       "   TechSupport StreamingTV StreamingMovies Contract       PaperlessBilling\n",
       "1  No          No          No              Month-to-month Yes             \n",
       "2  No          No          No              One year       No              \n",
       "3  No          No          No              Month-to-month Yes             \n",
       "4  Yes         No          No              One year       No              \n",
       "5  No          No          No              Month-to-month Yes             \n",
       "6  No          Yes         Yes             Month-to-month Yes             \n",
       "7  No          Yes         No              Month-to-month Yes             \n",
       "8  No          No          No              Month-to-month No              \n",
       "9  Yes         Yes         Yes             Month-to-month Yes             \n",
       "10 No          No          No              One year       No              \n",
       "   PaymentMethod             MonthlyCharges TotalCharges Churn\n",
       "1  Electronic check           29.85           29.85      No   \n",
       "2  Mailed check               56.95         1889.50      No   \n",
       "3  Mailed check               53.85          108.15      Yes  \n",
       "4  Bank transfer (automatic)  42.30         1840.75      No   \n",
       "5  Electronic check           70.70          151.65      Yes  \n",
       "6  Electronic check           99.65          820.50      Yes  \n",
       "7  Credit card (automatic)    89.10         1949.40      No   \n",
       "8  Mailed check               29.75          301.90      No   \n",
       "9  Electronic check          104.80         3046.05      Yes  \n",
       "10 Bank transfer (automatic)  56.15         3487.95      No   "
      ]
     },
     "metadata": {},
     "output_type": "display_data"
    }
   ],
   "source": [
    "head(data1,n=10) ## checking out the first 10 observations of our data "
   ]
  },
  {
   "cell_type": "markdown",
   "metadata": {},
   "source": [
    "$\\text{From the above code, we can see the general layout of a few of the 21 variables.}$\n",
    "\n",
    "$\\text{Our general target variable, Churn, was placed at the end of the data set. This is a bit different from the standard method.}$\n",
    "\n",
    "$\\text{Generally the target variable is placed at the start of the data set, but it doesn't really matter.}$\n",
    "\n",
    "$\\text{Lets change the data set to fix our desire layout.}$\n"
   ]
  },
  {
   "cell_type": "code",
   "execution_count": 15,
   "metadata": {},
   "outputs": [],
   "source": [
    "library(dplyr) ## a library useful for transforming data frames\n",
    "##check out the following pdf written 2018, for more about the library\n",
    "#https://cran.r-project.org/web/packages/dplyr/dplyr.pdf\n",
    "\n",
    "### Applying a chain method of coding inplace of using (())\n",
    "## Think of %>% as the word then, check it in action below!\n",
    "data1=data1 %>%\n",
    "    select(Churn,everything(),-c(customerID))  ## switch the order and droping ID\n",
    "\n",
    "data1=data1 %>% \n",
    "    mutate_if(is.character,as.factor) ##changing chr types to factor types"
   ]
  },
  {
   "cell_type": "code",
   "execution_count": 16,
   "metadata": {},
   "outputs": [
    {
     "data": {
      "text/html": [
       "<table>\n",
       "<thead><tr><th scope=col>Churn</th><th scope=col>gender</th><th scope=col>SeniorCitizen</th><th scope=col>Partner</th><th scope=col>Dependents</th><th scope=col>tenure</th><th scope=col>PhoneService</th><th scope=col>MultipleLines</th><th scope=col>InternetService</th><th scope=col>OnlineSecurity</th><th scope=col>OnlineBackup</th><th scope=col>DeviceProtection</th><th scope=col>TechSupport</th><th scope=col>StreamingTV</th><th scope=col>StreamingMovies</th><th scope=col>Contract</th><th scope=col>PaperlessBilling</th><th scope=col>PaymentMethod</th><th scope=col>MonthlyCharges</th><th scope=col>TotalCharges</th></tr></thead>\n",
       "<tbody>\n",
       "\t<tr><td>No                       </td><td>Female                   </td><td>0                        </td><td>Yes                      </td><td>No                       </td><td> 1                       </td><td>No                       </td><td>No phone service         </td><td>DSL                      </td><td>No                       </td><td>Yes                      </td><td>No                       </td><td>No                       </td><td>No                       </td><td>No                       </td><td>Month-to-month           </td><td>Yes                      </td><td>Electronic check         </td><td>29.85                    </td><td>  29.85                  </td></tr>\n",
       "\t<tr><td>No                       </td><td>Male                     </td><td>0                        </td><td>No                       </td><td>No                       </td><td>34                       </td><td>Yes                      </td><td>No                       </td><td>DSL                      </td><td>Yes                      </td><td>No                       </td><td>Yes                      </td><td>No                       </td><td>No                       </td><td>No                       </td><td>One year                 </td><td>No                       </td><td>Mailed check             </td><td>56.95                    </td><td>1889.50                  </td></tr>\n",
       "\t<tr><td>Yes                      </td><td>Male                     </td><td>0                        </td><td>No                       </td><td>No                       </td><td> 2                       </td><td>Yes                      </td><td>No                       </td><td>DSL                      </td><td>Yes                      </td><td>Yes                      </td><td>No                       </td><td>No                       </td><td>No                       </td><td>No                       </td><td>Month-to-month           </td><td>Yes                      </td><td>Mailed check             </td><td>53.85                    </td><td> 108.15                  </td></tr>\n",
       "\t<tr><td>No                       </td><td>Male                     </td><td>0                        </td><td>No                       </td><td>No                       </td><td>45                       </td><td>No                       </td><td>No phone service         </td><td>DSL                      </td><td>Yes                      </td><td>No                       </td><td>Yes                      </td><td>Yes                      </td><td>No                       </td><td>No                       </td><td>One year                 </td><td>No                       </td><td>Bank transfer (automatic)</td><td>42.30                    </td><td>1840.75                  </td></tr>\n",
       "\t<tr><td>Yes                      </td><td>Female                   </td><td>0                        </td><td>No                       </td><td>No                       </td><td> 2                       </td><td>Yes                      </td><td>No                       </td><td>Fiber optic              </td><td>No                       </td><td>No                       </td><td>No                       </td><td>No                       </td><td>No                       </td><td>No                       </td><td>Month-to-month           </td><td>Yes                      </td><td>Electronic check         </td><td>70.70                    </td><td> 151.65                  </td></tr>\n",
       "\t<tr><td>Yes                      </td><td>Female                   </td><td>0                        </td><td>No                       </td><td>No                       </td><td> 8                       </td><td>Yes                      </td><td>Yes                      </td><td>Fiber optic              </td><td>No                       </td><td>No                       </td><td>Yes                      </td><td>No                       </td><td>Yes                      </td><td>Yes                      </td><td>Month-to-month           </td><td>Yes                      </td><td>Electronic check         </td><td>99.65                    </td><td> 820.50                  </td></tr>\n",
       "</tbody>\n",
       "</table>\n"
      ],
      "text/latex": [
       "\\begin{tabular}{r|llllllllllllllllllll}\n",
       " Churn & gender & SeniorCitizen & Partner & Dependents & tenure & PhoneService & MultipleLines & InternetService & OnlineSecurity & OnlineBackup & DeviceProtection & TechSupport & StreamingTV & StreamingMovies & Contract & PaperlessBilling & PaymentMethod & MonthlyCharges & TotalCharges\\\\\n",
       "\\hline\n",
       "\t No                        & Female                    & 0                         & Yes                       & No                        &  1                        & No                        & No phone service          & DSL                       & No                        & Yes                       & No                        & No                        & No                        & No                        & Month-to-month            & Yes                       & Electronic check          & 29.85                     &   29.85                  \\\\\n",
       "\t No                        & Male                      & 0                         & No                        & No                        & 34                        & Yes                       & No                        & DSL                       & Yes                       & No                        & Yes                       & No                        & No                        & No                        & One year                  & No                        & Mailed check              & 56.95                     & 1889.50                  \\\\\n",
       "\t Yes                       & Male                      & 0                         & No                        & No                        &  2                        & Yes                       & No                        & DSL                       & Yes                       & Yes                       & No                        & No                        & No                        & No                        & Month-to-month            & Yes                       & Mailed check              & 53.85                     &  108.15                  \\\\\n",
       "\t No                        & Male                      & 0                         & No                        & No                        & 45                        & No                        & No phone service          & DSL                       & Yes                       & No                        & Yes                       & Yes                       & No                        & No                        & One year                  & No                        & Bank transfer (automatic) & 42.30                     & 1840.75                  \\\\\n",
       "\t Yes                       & Female                    & 0                         & No                        & No                        &  2                        & Yes                       & No                        & Fiber optic               & No                        & No                        & No                        & No                        & No                        & No                        & Month-to-month            & Yes                       & Electronic check          & 70.70                     &  151.65                  \\\\\n",
       "\t Yes                       & Female                    & 0                         & No                        & No                        &  8                        & Yes                       & Yes                       & Fiber optic               & No                        & No                        & Yes                       & No                        & Yes                       & Yes                       & Month-to-month            & Yes                       & Electronic check          & 99.65                     &  820.50                  \\\\\n",
       "\\end{tabular}\n"
      ],
      "text/markdown": [
       "\n",
       "Churn | gender | SeniorCitizen | Partner | Dependents | tenure | PhoneService | MultipleLines | InternetService | OnlineSecurity | OnlineBackup | DeviceProtection | TechSupport | StreamingTV | StreamingMovies | Contract | PaperlessBilling | PaymentMethod | MonthlyCharges | TotalCharges | \n",
       "|---|---|---|---|---|---|\n",
       "| No                        | Female                    | 0                         | Yes                       | No                        |  1                        | No                        | No phone service          | DSL                       | No                        | Yes                       | No                        | No                        | No                        | No                        | Month-to-month            | Yes                       | Electronic check          | 29.85                     |   29.85                   | \n",
       "| No                        | Male                      | 0                         | No                        | No                        | 34                        | Yes                       | No                        | DSL                       | Yes                       | No                        | Yes                       | No                        | No                        | No                        | One year                  | No                        | Mailed check              | 56.95                     | 1889.50                   | \n",
       "| Yes                       | Male                      | 0                         | No                        | No                        |  2                        | Yes                       | No                        | DSL                       | Yes                       | Yes                       | No                        | No                        | No                        | No                        | Month-to-month            | Yes                       | Mailed check              | 53.85                     |  108.15                   | \n",
       "| No                        | Male                      | 0                         | No                        | No                        | 45                        | No                        | No phone service          | DSL                       | Yes                       | No                        | Yes                       | Yes                       | No                        | No                        | One year                  | No                        | Bank transfer (automatic) | 42.30                     | 1840.75                   | \n",
       "| Yes                       | Female                    | 0                         | No                        | No                        |  2                        | Yes                       | No                        | Fiber optic               | No                        | No                        | No                        | No                        | No                        | No                        | Month-to-month            | Yes                       | Electronic check          | 70.70                     |  151.65                   | \n",
       "| Yes                       | Female                    | 0                         | No                        | No                        |  8                        | Yes                       | Yes                       | Fiber optic               | No                        | No                        | Yes                       | No                        | Yes                       | Yes                       | Month-to-month            | Yes                       | Electronic check          | 99.65                     |  820.50                   | \n",
       "\n",
       "\n"
      ],
      "text/plain": [
       "  Churn gender SeniorCitizen Partner Dependents tenure PhoneService\n",
       "1 No    Female 0             Yes     No          1     No          \n",
       "2 No    Male   0             No      No         34     Yes         \n",
       "3 Yes   Male   0             No      No          2     Yes         \n",
       "4 No    Male   0             No      No         45     No          \n",
       "5 Yes   Female 0             No      No          2     Yes         \n",
       "6 Yes   Female 0             No      No          8     Yes         \n",
       "  MultipleLines    InternetService OnlineSecurity OnlineBackup DeviceProtection\n",
       "1 No phone service DSL             No             Yes          No              \n",
       "2 No               DSL             Yes            No           Yes             \n",
       "3 No               DSL             Yes            Yes          No              \n",
       "4 No phone service DSL             Yes            No           Yes             \n",
       "5 No               Fiber optic     No             No           No              \n",
       "6 Yes              Fiber optic     No             No           Yes             \n",
       "  TechSupport StreamingTV StreamingMovies Contract       PaperlessBilling\n",
       "1 No          No          No              Month-to-month Yes             \n",
       "2 No          No          No              One year       No              \n",
       "3 No          No          No              Month-to-month Yes             \n",
       "4 Yes         No          No              One year       No              \n",
       "5 No          No          No              Month-to-month Yes             \n",
       "6 No          Yes         Yes             Month-to-month Yes             \n",
       "  PaymentMethod             MonthlyCharges TotalCharges\n",
       "1 Electronic check          29.85            29.85     \n",
       "2 Mailed check              56.95          1889.50     \n",
       "3 Mailed check              53.85           108.15     \n",
       "4 Bank transfer (automatic) 42.30          1840.75     \n",
       "5 Electronic check          70.70           151.65     \n",
       "6 Electronic check          99.65           820.50     "
      ]
     },
     "metadata": {},
     "output_type": "display_data"
    }
   ],
   "source": [
    "head(data1)"
   ]
  },
  {
   "cell_type": "markdown",
   "metadata": {},
   "source": [
    "$\\text{Notice that I removed the customerID, for the type of analysis I am  conducting the ID numbers are not needed.}$\n",
    "\n",
    "$\\text{I also turned the chr type variables into factor types.}$"
   ]
  },
  {
   "cell_type": "markdown",
   "metadata": {},
   "source": [
    "$\\text{We want to review  the data to come up with a good retention plan.}$\n",
    "\n",
    "$\\text{Lets dive deeper into the data to develope some simple introductory analysis!}$"
   ]
  },
  {
   "cell_type": "code",
   "execution_count": 17,
   "metadata": {},
   "outputs": [
    {
     "data": {
      "text/plain": [
       " Churn         gender     SeniorCitizen    Partner    Dependents\n",
       " No :5174   Female:3488   Min.   :0.0000   No :3641   No :4933  \n",
       " Yes:1869   Male  :3555   1st Qu.:0.0000   Yes:3402   Yes:2110  \n",
       "                          Median :0.0000                        \n",
       "                          Mean   :0.1621                        \n",
       "                          3rd Qu.:0.0000                        \n",
       "                          Max.   :1.0000                        \n",
       "                                                                \n",
       "     tenure      PhoneService          MultipleLines     InternetService\n",
       " Min.   : 0.00   No : 682     No              :3390   DSL        :2421  \n",
       " 1st Qu.: 9.00   Yes:6361     No phone service: 682   Fiber optic:3096  \n",
       " Median :29.00                Yes             :2971   No         :1526  \n",
       " Mean   :32.37                                                          \n",
       " 3rd Qu.:55.00                                                          \n",
       " Max.   :72.00                                                          \n",
       "                                                                        \n",
       "             OnlineSecurity              OnlineBackup \n",
       " No                 :3498   No                 :3088  \n",
       " No internet service:1526   No internet service:1526  \n",
       " Yes                :2019   Yes                :2429  \n",
       "                                                      \n",
       "                                                      \n",
       "                                                      \n",
       "                                                      \n",
       "            DeviceProtection              TechSupport  \n",
       " No                 :3095    No                 :3473  \n",
       " No internet service:1526    No internet service:1526  \n",
       " Yes                :2422    Yes                :2044  \n",
       "                                                       \n",
       "                                                       \n",
       "                                                       \n",
       "                                                       \n",
       "              StreamingTV              StreamingMovies           Contract   \n",
       " No                 :2810   No                 :2785   Month-to-month:3875  \n",
       " No internet service:1526   No internet service:1526   One year      :1473  \n",
       " Yes                :2707   Yes                :2732   Two year      :1695  \n",
       "                                                                            \n",
       "                                                                            \n",
       "                                                                            \n",
       "                                                                            \n",
       " PaperlessBilling                   PaymentMethod  MonthlyCharges  \n",
       " No :2872         Bank transfer (automatic):1544   Min.   : 18.25  \n",
       " Yes:4171         Credit card (automatic)  :1522   1st Qu.: 35.50  \n",
       "                  Electronic check         :2365   Median : 70.35  \n",
       "                  Mailed check             :1612   Mean   : 64.76  \n",
       "                                                   3rd Qu.: 89.85  \n",
       "                                                   Max.   :118.75  \n",
       "                                                                   \n",
       "  TotalCharges   \n",
       " Min.   :  18.8  \n",
       " 1st Qu.: 401.4  \n",
       " Median :1397.5  \n",
       " Mean   :2283.3  \n",
       " 3rd Qu.:3794.7  \n",
       " Max.   :8684.8  \n",
       " NA's   :11      "
      ]
     },
     "metadata": {},
     "output_type": "display_data"
    }
   ],
   "source": [
    "summary(data1) # summary() gives us quick single variable information"
   ]
  },
  {
   "cell_type": "markdown",
   "metadata": {},
   "source": [
    "$\\text{From the above out put , we can see that our data set is mix. (also from the pre-information given.}$\n",
    "\n",
    "$\\text{From TotalCharges, we see that we have some NA's to fix.}$\n",
    "\n",
    "$\\text{Lets check out TotalCharges in greater detail.}$"
   ]
  },
  {
   "cell_type": "code",
   "execution_count": 18,
   "metadata": {},
   "outputs": [
    {
     "data": {
      "text/html": [
       "<ol class=list-inline>\n",
       "\t<li>18.8</li>\n",
       "\t<li>18.85</li>\n",
       "\t<li>18.85</li>\n",
       "\t<li>18.9</li>\n",
       "\t<li>19</li>\n",
       "\t<li>19.05</li>\n",
       "</ol>\n"
      ],
      "text/latex": [
       "\\begin{enumerate*}\n",
       "\\item 18.8\n",
       "\\item 18.85\n",
       "\\item 18.85\n",
       "\\item 18.9\n",
       "\\item 19\n",
       "\\item 19.05\n",
       "\\end{enumerate*}\n"
      ],
      "text/markdown": [
       "1. 18.8\n",
       "2. 18.85\n",
       "3. 18.85\n",
       "4. 18.9\n",
       "5. 19\n",
       "6. 19.05\n",
       "\n",
       "\n"
      ],
      "text/plain": [
       "[1] 18.80 18.85 18.85 18.90 19.00 19.05"
      ]
     },
     "metadata": {},
     "output_type": "display_data"
    }
   ],
   "source": [
    "head(sort(data1$TotalCharges))## sort by default starts from lowest value than biggest\n",
    "#Although we already knew 18.8 was the lowest written value"
   ]
  },
  {
   "cell_type": "code",
   "execution_count": 19,
   "metadata": {},
   "outputs": [
    {
     "data": {
      "text/html": [
       "<ol class=list-inline>\n",
       "\t<li>0</li>\n",
       "\t<li>0</li>\n",
       "\t<li>0</li>\n",
       "\t<li>0</li>\n",
       "\t<li>0</li>\n",
       "\t<li>0</li>\n",
       "\t<li>0</li>\n",
       "\t<li>0</li>\n",
       "\t<li>0</li>\n",
       "\t<li>0</li>\n",
       "\t<li>0</li>\n",
       "\t<li>1</li>\n",
       "\t<li>1</li>\n",
       "</ol>\n"
      ],
      "text/latex": [
       "\\begin{enumerate*}\n",
       "\\item 0\n",
       "\\item 0\n",
       "\\item 0\n",
       "\\item 0\n",
       "\\item 0\n",
       "\\item 0\n",
       "\\item 0\n",
       "\\item 0\n",
       "\\item 0\n",
       "\\item 0\n",
       "\\item 0\n",
       "\\item 1\n",
       "\\item 1\n",
       "\\end{enumerate*}\n"
      ],
      "text/markdown": [
       "1. 0\n",
       "2. 0\n",
       "3. 0\n",
       "4. 0\n",
       "5. 0\n",
       "6. 0\n",
       "7. 0\n",
       "8. 0\n",
       "9. 0\n",
       "10. 0\n",
       "11. 0\n",
       "12. 1\n",
       "13. 1\n",
       "\n",
       "\n"
      ],
      "text/plain": [
       " [1] 0 0 0 0 0 0 0 0 0 0 0 1 1"
      ]
     },
     "metadata": {},
     "output_type": "display_data"
    }
   ],
   "source": [
    "head(sort(data1$tenure),n=13)## sort by default starts from lowest value than biggest\n"
   ]
  },
  {
   "cell_type": "markdown",
   "metadata": {},
   "source": [
    "$\\text{To be  truthful, we really do not know what the nans in TotalCharges were suppose to be.}$\n",
    "\n",
    "$\\text{We could replace the values with MonthlyCharges+(MonthlyCharges*tenure) , or etc...,or etc..}$\n",
    "\n",
    "$\\text{It seems likely that the 11 observations with NAs for TotalCharges are those with less than a month of use.}$\n",
    "\n",
    "$\\text{We could just remove the observations, since its only 11 out of 7043, but lets check out the weird observations first.}$"
   ]
  },
  {
   "cell_type": "code",
   "execution_count": 20,
   "metadata": {},
   "outputs": [
    {
     "data": {
      "text/html": [
       "<table>\n",
       "<thead><tr><th scope=col>Churn</th><th scope=col>gender</th><th scope=col>SeniorCitizen</th><th scope=col>Partner</th><th scope=col>Dependents</th><th scope=col>tenure</th><th scope=col>PhoneService</th><th scope=col>MultipleLines</th><th scope=col>InternetService</th><th scope=col>OnlineSecurity</th><th scope=col>OnlineBackup</th><th scope=col>DeviceProtection</th><th scope=col>TechSupport</th><th scope=col>StreamingTV</th><th scope=col>StreamingMovies</th><th scope=col>Contract</th><th scope=col>PaperlessBilling</th><th scope=col>PaymentMethod</th><th scope=col>MonthlyCharges</th><th scope=col>TotalCharges</th></tr></thead>\n",
       "<tbody>\n",
       "\t<tr><td>No                       </td><td>Female                   </td><td>0                        </td><td>Yes                      </td><td>Yes                      </td><td>0                        </td><td>No                       </td><td>No phone service         </td><td>DSL                      </td><td>Yes                      </td><td>No                       </td><td>Yes                      </td><td>Yes                      </td><td>Yes                      </td><td>No                       </td><td>Two year                 </td><td>Yes                      </td><td>Bank transfer (automatic)</td><td>52.55                    </td><td>NA                       </td></tr>\n",
       "\t<tr><td>No                       </td><td>Male                     </td><td>0                        </td><td>No                       </td><td>Yes                      </td><td>0                        </td><td>Yes                      </td><td>No                       </td><td>No                       </td><td>No internet service      </td><td>No internet service      </td><td>No internet service      </td><td>No internet service      </td><td>No internet service      </td><td>No internet service      </td><td>Two year                 </td><td>No                       </td><td>Mailed check             </td><td>20.25                    </td><td>NA                       </td></tr>\n",
       "\t<tr><td>No                       </td><td>Female                   </td><td>0                        </td><td>Yes                      </td><td>Yes                      </td><td>0                        </td><td>Yes                      </td><td>No                       </td><td>DSL                      </td><td>Yes                      </td><td>Yes                      </td><td>Yes                      </td><td>No                       </td><td>Yes                      </td><td>Yes                      </td><td>Two year                 </td><td>No                       </td><td>Mailed check             </td><td>80.85                    </td><td>NA                       </td></tr>\n",
       "\t<tr><td>No                       </td><td>Male                     </td><td>0                        </td><td>Yes                      </td><td>Yes                      </td><td>0                        </td><td>Yes                      </td><td>Yes                      </td><td>No                       </td><td>No internet service      </td><td>No internet service      </td><td>No internet service      </td><td>No internet service      </td><td>No internet service      </td><td>No internet service      </td><td>Two year                 </td><td>No                       </td><td>Mailed check             </td><td>25.75                    </td><td>NA                       </td></tr>\n",
       "\t<tr><td>No                       </td><td>Female                   </td><td>0                        </td><td>Yes                      </td><td>Yes                      </td><td>0                        </td><td>No                       </td><td>No phone service         </td><td>DSL                      </td><td>Yes                      </td><td>Yes                      </td><td>Yes                      </td><td>Yes                      </td><td>Yes                      </td><td>No                       </td><td>Two year                 </td><td>No                       </td><td>Credit card (automatic)  </td><td>56.05                    </td><td>NA                       </td></tr>\n",
       "\t<tr><td>No                       </td><td>Male                     </td><td>0                        </td><td>Yes                      </td><td>Yes                      </td><td>0                        </td><td>Yes                      </td><td>No                       </td><td>No                       </td><td>No internet service      </td><td>No internet service      </td><td>No internet service      </td><td>No internet service      </td><td>No internet service      </td><td>No internet service      </td><td>Two year                 </td><td>No                       </td><td>Mailed check             </td><td>19.85                    </td><td>NA                       </td></tr>\n",
       "\t<tr><td>No                       </td><td>Male                     </td><td>0                        </td><td>Yes                      </td><td>Yes                      </td><td>0                        </td><td>Yes                      </td><td>Yes                      </td><td>No                       </td><td>No internet service      </td><td>No internet service      </td><td>No internet service      </td><td>No internet service      </td><td>No internet service      </td><td>No internet service      </td><td>Two year                 </td><td>No                       </td><td>Mailed check             </td><td>25.35                    </td><td>NA                       </td></tr>\n",
       "\t<tr><td>No                       </td><td>Female                   </td><td>0                        </td><td>Yes                      </td><td>Yes                      </td><td>0                        </td><td>Yes                      </td><td>No                       </td><td>No                       </td><td>No internet service      </td><td>No internet service      </td><td>No internet service      </td><td>No internet service      </td><td>No internet service      </td><td>No internet service      </td><td>Two year                 </td><td>No                       </td><td>Mailed check             </td><td>20.00                    </td><td>NA                       </td></tr>\n",
       "\t<tr><td>No                       </td><td>Male                     </td><td>0                        </td><td>Yes                      </td><td>Yes                      </td><td>0                        </td><td>Yes                      </td><td>No                       </td><td>No                       </td><td>No internet service      </td><td>No internet service      </td><td>No internet service      </td><td>No internet service      </td><td>No internet service      </td><td>No internet service      </td><td>One year                 </td><td>Yes                      </td><td>Mailed check             </td><td>19.70                    </td><td>NA                       </td></tr>\n",
       "\t<tr><td>No                       </td><td>Female                   </td><td>0                        </td><td>Yes                      </td><td>Yes                      </td><td>0                        </td><td>Yes                      </td><td>Yes                      </td><td>DSL                      </td><td>No                       </td><td>Yes                      </td><td>Yes                      </td><td>Yes                      </td><td>Yes                      </td><td>No                       </td><td>Two year                 </td><td>No                       </td><td>Mailed check             </td><td>73.35                    </td><td>NA                       </td></tr>\n",
       "\t<tr><td>No                       </td><td>Male                     </td><td>0                        </td><td>No                       </td><td>Yes                      </td><td>0                        </td><td>Yes                      </td><td>Yes                      </td><td>DSL                      </td><td>Yes                      </td><td>Yes                      </td><td>No                       </td><td>Yes                      </td><td>No                       </td><td>No                       </td><td>Two year                 </td><td>Yes                      </td><td>Bank transfer (automatic)</td><td>61.90                    </td><td>NA                       </td></tr>\n",
       "</tbody>\n",
       "</table>\n"
      ],
      "text/latex": [
       "\\begin{tabular}{r|llllllllllllllllllll}\n",
       " Churn & gender & SeniorCitizen & Partner & Dependents & tenure & PhoneService & MultipleLines & InternetService & OnlineSecurity & OnlineBackup & DeviceProtection & TechSupport & StreamingTV & StreamingMovies & Contract & PaperlessBilling & PaymentMethod & MonthlyCharges & TotalCharges\\\\\n",
       "\\hline\n",
       "\t No                        & Female                    & 0                         & Yes                       & Yes                       & 0                         & No                        & No phone service          & DSL                       & Yes                       & No                        & Yes                       & Yes                       & Yes                       & No                        & Two year                  & Yes                       & Bank transfer (automatic) & 52.55                     & NA                       \\\\\n",
       "\t No                        & Male                      & 0                         & No                        & Yes                       & 0                         & Yes                       & No                        & No                        & No internet service       & No internet service       & No internet service       & No internet service       & No internet service       & No internet service       & Two year                  & No                        & Mailed check              & 20.25                     & NA                       \\\\\n",
       "\t No                        & Female                    & 0                         & Yes                       & Yes                       & 0                         & Yes                       & No                        & DSL                       & Yes                       & Yes                       & Yes                       & No                        & Yes                       & Yes                       & Two year                  & No                        & Mailed check              & 80.85                     & NA                       \\\\\n",
       "\t No                        & Male                      & 0                         & Yes                       & Yes                       & 0                         & Yes                       & Yes                       & No                        & No internet service       & No internet service       & No internet service       & No internet service       & No internet service       & No internet service       & Two year                  & No                        & Mailed check              & 25.75                     & NA                       \\\\\n",
       "\t No                        & Female                    & 0                         & Yes                       & Yes                       & 0                         & No                        & No phone service          & DSL                       & Yes                       & Yes                       & Yes                       & Yes                       & Yes                       & No                        & Two year                  & No                        & Credit card (automatic)   & 56.05                     & NA                       \\\\\n",
       "\t No                        & Male                      & 0                         & Yes                       & Yes                       & 0                         & Yes                       & No                        & No                        & No internet service       & No internet service       & No internet service       & No internet service       & No internet service       & No internet service       & Two year                  & No                        & Mailed check              & 19.85                     & NA                       \\\\\n",
       "\t No                        & Male                      & 0                         & Yes                       & Yes                       & 0                         & Yes                       & Yes                       & No                        & No internet service       & No internet service       & No internet service       & No internet service       & No internet service       & No internet service       & Two year                  & No                        & Mailed check              & 25.35                     & NA                       \\\\\n",
       "\t No                        & Female                    & 0                         & Yes                       & Yes                       & 0                         & Yes                       & No                        & No                        & No internet service       & No internet service       & No internet service       & No internet service       & No internet service       & No internet service       & Two year                  & No                        & Mailed check              & 20.00                     & NA                       \\\\\n",
       "\t No                        & Male                      & 0                         & Yes                       & Yes                       & 0                         & Yes                       & No                        & No                        & No internet service       & No internet service       & No internet service       & No internet service       & No internet service       & No internet service       & One year                  & Yes                       & Mailed check              & 19.70                     & NA                       \\\\\n",
       "\t No                        & Female                    & 0                         & Yes                       & Yes                       & 0                         & Yes                       & Yes                       & DSL                       & No                        & Yes                       & Yes                       & Yes                       & Yes                       & No                        & Two year                  & No                        & Mailed check              & 73.35                     & NA                       \\\\\n",
       "\t No                        & Male                      & 0                         & No                        & Yes                       & 0                         & Yes                       & Yes                       & DSL                       & Yes                       & Yes                       & No                        & Yes                       & No                        & No                        & Two year                  & Yes                       & Bank transfer (automatic) & 61.90                     & NA                       \\\\\n",
       "\\end{tabular}\n"
      ],
      "text/markdown": [
       "\n",
       "Churn | gender | SeniorCitizen | Partner | Dependents | tenure | PhoneService | MultipleLines | InternetService | OnlineSecurity | OnlineBackup | DeviceProtection | TechSupport | StreamingTV | StreamingMovies | Contract | PaperlessBilling | PaymentMethod | MonthlyCharges | TotalCharges | \n",
       "|---|---|---|---|---|---|---|---|---|---|---|\n",
       "| No                        | Female                    | 0                         | Yes                       | Yes                       | 0                         | No                        | No phone service          | DSL                       | Yes                       | No                        | Yes                       | Yes                       | Yes                       | No                        | Two year                  | Yes                       | Bank transfer (automatic) | 52.55                     | NA                        | \n",
       "| No                        | Male                      | 0                         | No                        | Yes                       | 0                         | Yes                       | No                        | No                        | No internet service       | No internet service       | No internet service       | No internet service       | No internet service       | No internet service       | Two year                  | No                        | Mailed check              | 20.25                     | NA                        | \n",
       "| No                        | Female                    | 0                         | Yes                       | Yes                       | 0                         | Yes                       | No                        | DSL                       | Yes                       | Yes                       | Yes                       | No                        | Yes                       | Yes                       | Two year                  | No                        | Mailed check              | 80.85                     | NA                        | \n",
       "| No                        | Male                      | 0                         | Yes                       | Yes                       | 0                         | Yes                       | Yes                       | No                        | No internet service       | No internet service       | No internet service       | No internet service       | No internet service       | No internet service       | Two year                  | No                        | Mailed check              | 25.75                     | NA                        | \n",
       "| No                        | Female                    | 0                         | Yes                       | Yes                       | 0                         | No                        | No phone service          | DSL                       | Yes                       | Yes                       | Yes                       | Yes                       | Yes                       | No                        | Two year                  | No                        | Credit card (automatic)   | 56.05                     | NA                        | \n",
       "| No                        | Male                      | 0                         | Yes                       | Yes                       | 0                         | Yes                       | No                        | No                        | No internet service       | No internet service       | No internet service       | No internet service       | No internet service       | No internet service       | Two year                  | No                        | Mailed check              | 19.85                     | NA                        | \n",
       "| No                        | Male                      | 0                         | Yes                       | Yes                       | 0                         | Yes                       | Yes                       | No                        | No internet service       | No internet service       | No internet service       | No internet service       | No internet service       | No internet service       | Two year                  | No                        | Mailed check              | 25.35                     | NA                        | \n",
       "| No                        | Female                    | 0                         | Yes                       | Yes                       | 0                         | Yes                       | No                        | No                        | No internet service       | No internet service       | No internet service       | No internet service       | No internet service       | No internet service       | Two year                  | No                        | Mailed check              | 20.00                     | NA                        | \n",
       "| No                        | Male                      | 0                         | Yes                       | Yes                       | 0                         | Yes                       | No                        | No                        | No internet service       | No internet service       | No internet service       | No internet service       | No internet service       | No internet service       | One year                  | Yes                       | Mailed check              | 19.70                     | NA                        | \n",
       "| No                        | Female                    | 0                         | Yes                       | Yes                       | 0                         | Yes                       | Yes                       | DSL                       | No                        | Yes                       | Yes                       | Yes                       | Yes                       | No                        | Two year                  | No                        | Mailed check              | 73.35                     | NA                        | \n",
       "| No                        | Male                      | 0                         | No                        | Yes                       | 0                         | Yes                       | Yes                       | DSL                       | Yes                       | Yes                       | No                        | Yes                       | No                        | No                        | Two year                  | Yes                       | Bank transfer (automatic) | 61.90                     | NA                        | \n",
       "\n",
       "\n"
      ],
      "text/plain": [
       "   Churn gender SeniorCitizen Partner Dependents tenure PhoneService\n",
       "1  No    Female 0             Yes     Yes        0      No          \n",
       "2  No    Male   0             No      Yes        0      Yes         \n",
       "3  No    Female 0             Yes     Yes        0      Yes         \n",
       "4  No    Male   0             Yes     Yes        0      Yes         \n",
       "5  No    Female 0             Yes     Yes        0      No          \n",
       "6  No    Male   0             Yes     Yes        0      Yes         \n",
       "7  No    Male   0             Yes     Yes        0      Yes         \n",
       "8  No    Female 0             Yes     Yes        0      Yes         \n",
       "9  No    Male   0             Yes     Yes        0      Yes         \n",
       "10 No    Female 0             Yes     Yes        0      Yes         \n",
       "11 No    Male   0             No      Yes        0      Yes         \n",
       "   MultipleLines    InternetService OnlineSecurity      OnlineBackup       \n",
       "1  No phone service DSL             Yes                 No                 \n",
       "2  No               No              No internet service No internet service\n",
       "3  No               DSL             Yes                 Yes                \n",
       "4  Yes              No              No internet service No internet service\n",
       "5  No phone service DSL             Yes                 Yes                \n",
       "6  No               No              No internet service No internet service\n",
       "7  Yes              No              No internet service No internet service\n",
       "8  No               No              No internet service No internet service\n",
       "9  No               No              No internet service No internet service\n",
       "10 Yes              DSL             No                  Yes                \n",
       "11 Yes              DSL             Yes                 Yes                \n",
       "   DeviceProtection    TechSupport         StreamingTV        \n",
       "1  Yes                 Yes                 Yes                \n",
       "2  No internet service No internet service No internet service\n",
       "3  Yes                 No                  Yes                \n",
       "4  No internet service No internet service No internet service\n",
       "5  Yes                 Yes                 Yes                \n",
       "6  No internet service No internet service No internet service\n",
       "7  No internet service No internet service No internet service\n",
       "8  No internet service No internet service No internet service\n",
       "9  No internet service No internet service No internet service\n",
       "10 Yes                 Yes                 Yes                \n",
       "11 No                  Yes                 No                 \n",
       "   StreamingMovies     Contract PaperlessBilling PaymentMethod            \n",
       "1  No                  Two year Yes              Bank transfer (automatic)\n",
       "2  No internet service Two year No               Mailed check             \n",
       "3  Yes                 Two year No               Mailed check             \n",
       "4  No internet service Two year No               Mailed check             \n",
       "5  No                  Two year No               Credit card (automatic)  \n",
       "6  No internet service Two year No               Mailed check             \n",
       "7  No internet service Two year No               Mailed check             \n",
       "8  No internet service Two year No               Mailed check             \n",
       "9  No internet service One year Yes              Mailed check             \n",
       "10 No                  Two year No               Mailed check             \n",
       "11 No                  Two year Yes              Bank transfer (automatic)\n",
       "   MonthlyCharges TotalCharges\n",
       "1  52.55          NA          \n",
       "2  20.25          NA          \n",
       "3  80.85          NA          \n",
       "4  25.75          NA          \n",
       "5  56.05          NA          \n",
       "6  19.85          NA          \n",
       "7  25.35          NA          \n",
       "8  20.00          NA          \n",
       "9  19.70          NA          \n",
       "10 73.35          NA          \n",
       "11 61.90          NA          "
      ]
     },
     "metadata": {},
     "output_type": "display_data"
    }
   ],
   "source": [
    "data1[rowSums(is.na(data1))>0,]## using boolean logic if any row has an NA 'True/1' then it will print\n",
    "\n",
    "## df[row,column] style format much like pythons 'df.iloc[row,column] ' kind of\n",
    "\n"
   ]
  },
  {
   "cell_type": "markdown",
   "metadata": {},
   "source": [
    "$\\text{As I suspected, the observations with NAs for TotalCharges are accounts with less than one month.}$\n",
    "\n",
    "$\\text{It appears that charges are only made or counted at the end of a month.}$\n",
    "\n",
    "$\\text{To stay with the input logic, we can set our NA values to 0.}$"
   ]
  },
  {
   "cell_type": "code",
   "execution_count": 21,
   "metadata": {},
   "outputs": [],
   "source": [
    "data1$TotalCharges[is.na(data1$TotalCharges)] <-0  ## This is replacing the na's in totalcharges with zeros\n",
    "## a bit different from python, where you need to save your changes in a new object. 'data1.totalcharges.replace(np.nan,0,inplace=True)'"
   ]
  },
  {
   "cell_type": "markdown",
   "metadata": {},
   "source": [
    "$\\text{Now lets check for duplicate observations in our data set!}$"
   ]
  },
  {
   "cell_type": "code",
   "execution_count": 22,
   "metadata": {},
   "outputs": [
    {
     "data": {
      "text/html": [
       "<ol class=list-inline>\n",
       "\t<li>7043</li>\n",
       "\t<li>20</li>\n",
       "</ol>\n"
      ],
      "text/latex": [
       "\\begin{enumerate*}\n",
       "\\item 7043\n",
       "\\item 20\n",
       "\\end{enumerate*}\n"
      ],
      "text/markdown": [
       "1. 7043\n",
       "2. 20\n",
       "\n",
       "\n"
      ],
      "text/plain": [
       "[1] 7043   20"
      ]
     },
     "metadata": {},
     "output_type": "display_data"
    }
   ],
   "source": [
    "dim(data1)"
   ]
  },
  {
   "cell_type": "code",
   "execution_count": 23,
   "metadata": {},
   "outputs": [],
   "source": [
    "library(dplyr)"
   ]
  },
  {
   "cell_type": "code",
   "execution_count": 24,
   "metadata": {},
   "outputs": [
    {
     "data": {
      "text/html": [
       "<ol class=list-inline>\n",
       "\t<li>7021</li>\n",
       "\t<li>20</li>\n",
       "</ol>\n"
      ],
      "text/latex": [
       "\\begin{enumerate*}\n",
       "\\item 7021\n",
       "\\item 20\n",
       "\\end{enumerate*}\n"
      ],
      "text/markdown": [
       "1. 7021\n",
       "2. 20\n",
       "\n",
       "\n"
      ],
      "text/plain": [
       "[1] 7021   20"
      ]
     },
     "metadata": {},
     "output_type": "display_data"
    }
   ],
   "source": [
    "dim(distinct(data1)) ## removes duplicate rows based on each columns"
   ]
  },
  {
   "cell_type": "markdown",
   "metadata": {},
   "source": [
    "$\\text{There does not appear to be any duplicate observations in the data set.}$\n",
    "\n",
    "$\\text{With python , we could have used 'data1.duplicated().sum()' to check for duplicate rows.}$\n",
    "\n",
    "$\\text{Now lets check out the various types of variables we are dealing with in R.}$"
   ]
  },
  {
   "cell_type": "code",
   "execution_count": 25,
   "metadata": {},
   "outputs": [
    {
     "name": "stdout",
     "output_type": "stream",
     "text": [
      "Classes 'tbl_df', 'tbl' and 'data.frame':\t7043 obs. of  20 variables:\n",
      " $ Churn           : Factor w/ 2 levels \"No\",\"Yes\": 1 1 2 1 2 2 1 1 2 1 ...\n",
      " $ gender          : Factor w/ 2 levels \"Female\",\"Male\": 1 2 2 2 1 1 2 1 1 2 ...\n",
      " $ SeniorCitizen   : int  0 0 0 0 0 0 0 0 0 0 ...\n",
      " $ Partner         : Factor w/ 2 levels \"No\",\"Yes\": 2 1 1 1 1 1 1 1 2 1 ...\n",
      " $ Dependents      : Factor w/ 2 levels \"No\",\"Yes\": 1 1 1 1 1 1 2 1 1 2 ...\n",
      " $ tenure          : int  1 34 2 45 2 8 22 10 28 62 ...\n",
      " $ PhoneService    : Factor w/ 2 levels \"No\",\"Yes\": 1 2 2 1 2 2 2 1 2 2 ...\n",
      " $ MultipleLines   : Factor w/ 3 levels \"No\",\"No phone service\",..: 2 1 1 2 1 3 3 2 3 1 ...\n",
      " $ InternetService : Factor w/ 3 levels \"DSL\",\"Fiber optic\",..: 1 1 1 1 2 2 2 1 2 1 ...\n",
      " $ OnlineSecurity  : Factor w/ 3 levels \"No\",\"No internet service\",..: 1 3 3 3 1 1 1 3 1 3 ...\n",
      " $ OnlineBackup    : Factor w/ 3 levels \"No\",\"No internet service\",..: 3 1 3 1 1 1 3 1 1 3 ...\n",
      " $ DeviceProtection: Factor w/ 3 levels \"No\",\"No internet service\",..: 1 3 1 3 1 3 1 1 3 1 ...\n",
      " $ TechSupport     : Factor w/ 3 levels \"No\",\"No internet service\",..: 1 1 1 3 1 1 1 1 3 1 ...\n",
      " $ StreamingTV     : Factor w/ 3 levels \"No\",\"No internet service\",..: 1 1 1 1 1 3 3 1 3 1 ...\n",
      " $ StreamingMovies : Factor w/ 3 levels \"No\",\"No internet service\",..: 1 1 1 1 1 3 1 1 3 1 ...\n",
      " $ Contract        : Factor w/ 3 levels \"Month-to-month\",..: 1 2 1 2 1 1 1 1 1 2 ...\n",
      " $ PaperlessBilling: Factor w/ 2 levels \"No\",\"Yes\": 2 1 2 1 2 2 2 1 2 1 ...\n",
      " $ PaymentMethod   : Factor w/ 4 levels \"Bank transfer (automatic)\",..: 3 4 4 1 3 3 2 4 3 1 ...\n",
      " $ MonthlyCharges  : num  29.9 57 53.9 42.3 70.7 ...\n",
      " $ TotalCharges    : num  29.9 1889.5 108.2 1840.8 151.7 ...\n"
     ]
    }
   ],
   "source": [
    "str(data1) ## shows the deeper information about the data set\n",
    "## Its much like pythons  'data1.info() ' \n",
    "\n",
    "## In R could also use the class function 'class(data1$gender)'\n",
    "## In python it would be 'type(data1.gender)'"
   ]
  },
  {
   "cell_type": "markdown",
   "metadata": {},
   "source": [
    "$\\text{I see that the variables are listed as Factor, num, or int type.}$"
   ]
  },
  {
   "cell_type": "code",
   "execution_count": null,
   "metadata": {},
   "outputs": [],
   "source": []
  }
 ],
 "metadata": {
  "kernelspec": {
   "display_name": "R",
   "language": "R",
   "name": "ir"
  },
  "language_info": {
   "codemirror_mode": "r",
   "file_extension": ".r",
   "mimetype": "text/x-r-source",
   "name": "R",
   "pygments_lexer": "r",
   "version": "3.4.3"
  }
 },
 "nbformat": 4,
 "nbformat_minor": 2
}
